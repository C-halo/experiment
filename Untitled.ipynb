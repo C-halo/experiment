{
 "cells": [
  {
   "cell_type": "code",
   "execution_count": 1,
   "id": "995a21ee",
   "metadata": {},
   "outputs": [],
   "source": [
    "# Data wrangling\n",
    "import pandas as pd \n",
    "\n",
    "# Visualization\n",
    "import matplotlib.pyplot as plt \n",
    "\n",
    "# Date wrangling\n",
    "import datetime\n",
    "\n",
    "# Math operations\n",
    "import numpy as np\n",
    "\n",
    "# Random sampling\n",
    "import random\n",
    "\n",
    "# Keras API \n",
    "from tensorflow import keras\n",
    "\n",
    "# Deep learning \n",
    "from keras.models import Input, Model, Sequential\n",
    "from keras.layers import Dense, Dropout, LSTM, Concatenate, SimpleRNN, Masking, Flatten\n",
    "from keras import losses\n",
    "from keras.callbacks import EarlyStopping\n",
    "from keras.initializers import RandomNormal"
   ]
  },
  {
   "cell_type": "code",
   "execution_count": 2,
   "id": "059fa8b2",
   "metadata": {
    "scrolled": false
   },
   "outputs": [
    {
     "name": "stdout",
     "output_type": "stream",
     "text": [
      "Shape of data: (1119645, 14)\n"
     ]
    }
   ],
   "source": [
    "df = pd.read_csv('count_observation_upload.csv') #读取文件\n",
    "d = pd.read_csv('count_observation_upload.csv')\n",
    "print(f'Shape of data: {d.shape}') #输出文件行列数\n",
    "# d.dtypes #获取数据类型"
   ]
  },
  {
   "cell_type": "code",
   "execution_count": 3,
   "id": "67f1a8bb",
   "metadata": {},
   "outputs": [],
   "source": [
    "d.fillna(0, inplace=True) #将NAN转为0\n",
    "# del_rows = d[d.Time== '2018-05-07 18:00:00']\n",
    "# len(del_rows)\n",
    "# del_rows\n",
    "# d.drop(d.head(len(del_rows)).index,inplace=True) # 从头去掉n行 第一个时间为空"
   ]
  },
  {
   "cell_type": "code",
   "execution_count": 4,
   "id": "be8c9977",
   "metadata": {
    "scrolled": false
   },
   "outputs": [
    {
     "data": {
      "text/html": [
       "<div>\n",
       "<style scoped>\n",
       "    .dataframe tbody tr th:only-of-type {\n",
       "        vertical-align: middle;\n",
       "    }\n",
       "\n",
       "    .dataframe tbody tr th {\n",
       "        vertical-align: top;\n",
       "    }\n",
       "\n",
       "    .dataframe thead th {\n",
       "        text-align: right;\n",
       "    }\n",
       "</style>\n",
       "<table border=\"1\" class=\"dataframe\">\n",
       "  <thead>\n",
       "    <tr style=\"text-align: right;\">\n",
       "      <th></th>\n",
       "      <th>videoId</th>\n",
       "      <th>Time</th>\n",
       "      <th>viewCount_diff</th>\n",
       "    </tr>\n",
       "  </thead>\n",
       "  <tbody>\n",
       "    <tr>\n",
       "      <th>0</th>\n",
       "      <td>FzG4uDgje3M</td>\n",
       "      <td>2018-05-07 18:00:00</td>\n",
       "      <td>0.0</td>\n",
       "    </tr>\n",
       "    <tr>\n",
       "      <th>695</th>\n",
       "      <td>LOYAomlRbxI</td>\n",
       "      <td>2018-05-07 18:00:00</td>\n",
       "      <td>0.0</td>\n",
       "    </tr>\n",
       "    <tr>\n",
       "      <th>1390</th>\n",
       "      <td>Bm8rz-llMhE</td>\n",
       "      <td>2018-05-07 18:00:00</td>\n",
       "      <td>0.0</td>\n",
       "    </tr>\n",
       "    <tr>\n",
       "      <th>2085</th>\n",
       "      <td>pd7AMDMotyM</td>\n",
       "      <td>2018-05-07 18:00:00</td>\n",
       "      <td>0.0</td>\n",
       "    </tr>\n",
       "    <tr>\n",
       "      <th>2780</th>\n",
       "      <td>4kDklB6-69Q</td>\n",
       "      <td>2018-05-07 18:00:00</td>\n",
       "      <td>0.0</td>\n",
       "    </tr>\n",
       "    <tr>\n",
       "      <th>...</th>\n",
       "      <td>...</td>\n",
       "      <td>...</td>\n",
       "      <td>...</td>\n",
       "    </tr>\n",
       "    <tr>\n",
       "      <th>1115474</th>\n",
       "      <td>zH14vDK2oLY</td>\n",
       "      <td>2018-06-05 16:00:00</td>\n",
       "      <td>0.0</td>\n",
       "    </tr>\n",
       "    <tr>\n",
       "      <th>1116864</th>\n",
       "      <td>JdMkm0UzBd0</td>\n",
       "      <td>2018-06-05 16:00:00</td>\n",
       "      <td>0.0</td>\n",
       "    </tr>\n",
       "    <tr>\n",
       "      <th>1117559</th>\n",
       "      <td>_QwEeVkEWXM</td>\n",
       "      <td>2018-06-05 16:00:00</td>\n",
       "      <td>0.0</td>\n",
       "    </tr>\n",
       "    <tr>\n",
       "      <th>1118254</th>\n",
       "      <td>bc2Uqti0F8k</td>\n",
       "      <td>2018-06-05 16:00:00</td>\n",
       "      <td>0.0</td>\n",
       "    </tr>\n",
       "    <tr>\n",
       "      <th>1119644</th>\n",
       "      <td>Wq0fUTC6Cr4</td>\n",
       "      <td>2018-06-05 16:00:00</td>\n",
       "      <td>0.0</td>\n",
       "    </tr>\n",
       "  </tbody>\n",
       "</table>\n",
       "<p>1119645 rows × 3 columns</p>\n",
       "</div>"
      ],
      "text/plain": [
       "             videoId                Time  viewCount_diff\n",
       "0        FzG4uDgje3M 2018-05-07 18:00:00             0.0\n",
       "695      LOYAomlRbxI 2018-05-07 18:00:00             0.0\n",
       "1390     Bm8rz-llMhE 2018-05-07 18:00:00             0.0\n",
       "2085     pd7AMDMotyM 2018-05-07 18:00:00             0.0\n",
       "2780     4kDklB6-69Q 2018-05-07 18:00:00             0.0\n",
       "...              ...                 ...             ...\n",
       "1115474  zH14vDK2oLY 2018-06-05 16:00:00             0.0\n",
       "1116864  JdMkm0UzBd0 2018-06-05 16:00:00             0.0\n",
       "1117559  _QwEeVkEWXM 2018-06-05 16:00:00             0.0\n",
       "1118254  bc2Uqti0F8k 2018-06-05 16:00:00             0.0\n",
       "1119644  Wq0fUTC6Cr4 2018-06-05 16:00:00             0.0\n",
       "\n",
       "[1119645 rows x 3 columns]"
      ]
     },
     "execution_count": 4,
     "metadata": {},
     "output_type": "execute_result"
    }
   ],
   "source": [
    "d.sort_values(by=['Time','viewCount_diff'],ascending=(True,False) ,inplace=True)  #按照同一时间，请求次数排序\n",
    "d=d[['videoId','Time','viewCount_diff']]\n",
    "d['Time'] = pd.to_datetime(d['Time'])#将时间转为画图可以识别的datetime类型\n",
    "# d = d.set_index(['Time'])\n",
    "d"
   ]
  },
  {
   "cell_type": "code",
   "execution_count": 266,
   "id": "32916e5b",
   "metadata": {},
   "outputs": [
    {
     "name": "stdout",
     "output_type": "stream",
     "text": [
      "695\n",
      "672\n",
      "648\n",
      "648\n"
     ]
    }
   ],
   "source": [
    "# features = ['viewCount_diff'] \n",
    "test_d = d[d.videoId== 'VYOjWnS4cMY'] #获取视频id \n",
    "# print(test_d) \n",
    "from sklearn.preprocessing import StandardScaler #数据标准化的库 \n",
    "scaler = StandardScaler() #生成实例对象 \n",
    "sca_X = test_d['viewCount_diff'].values\n",
    "print(len(sca_X))\n",
    "from collections import deque\n",
    "deq = deque(maxlen=24) #设置队列先进先出\n",
    "\n",
    "X = []\n",
    "for i in sca_X:\n",
    "    deq.append(i)\n",
    "    if len(deq)==24:\n",
    "        X.append(list(deq)) #满了5行数据就存储进X\n",
    "print(len(X))#4271 从第5行开始记录，所以少掉4条\n",
    "X_lately = X[-24:]#记录最后10条数据\n",
    "X = X[:-24] #删除最后十条\n",
    "print(len(X)) \n",
    "\n",
    "#记录了label值\n",
    "y = test_d['viewCount_diff'].values[24-1:-24]  #构建y的值  从第4条开始到倒数第10条\n",
    "print(len(y))\n",
    "# print(y)\n",
    "#print(df) #4275*6\n",
    "\n",
    "import numpy as np\n",
    "X = np.array(X) #转为numpy数组，更直观\n",
    "y = np.array(y)\n",
    "# print(X.shape)\n",
    "# print(y.shape)\n",
    "# return X,y,X_lately"
   ]
  },
  {
   "cell_type": "code",
   "execution_count": 267,
   "id": "39518202",
   "metadata": {},
   "outputs": [],
   "source": [
    "def plotPop(id):\n",
    "#     plt.clf()  清空上次作图\n",
    "    views = []\n",
    "    date = []\n",
    "    test_d = d[d.videoId== id] #返回指定id视频数据\n",
    "#     del views[:]\n",
    "#     del date[:]\n",
    "    for da,v in zip(test_d['Time'],test_d['viewCount_diff']):\n",
    "        date.append(da)\n",
    "        views.append(float(v))\n",
    "#     plt.plot(date,views,label = str(id))\n",
    "    pser = pd.Series(views, index = date)#返回一维数组\n",
    "#     pser.plot()\n",
    "    pser.plot(use_index = True,grid=True, legend = True, label = str(id))"
   ]
  },
  {
   "cell_type": "code",
   "execution_count": 268,
   "id": "d3d8a916",
   "metadata": {
    "scrolled": true
   },
   "outputs": [
    {
     "data": {
      "image/png": "[encoded data removed]",
      "text/plain": [
       "<Figure size 432x288 with 1 Axes>"
      ]
     },
     "metadata": {
      "needs_background": "light"
     },
     "output_type": "display_data"
    }
   ],
   "source": [
    "plotPop('VYOjWnS4cMY')\n",
    "plotPop('FbdactyQadQ')"
   ]
  },
  {
   "cell_type": "code",
   "execution_count": 5,
   "id": "98585450",
   "metadata": {},
   "outputs": [],
   "source": [
    "#处理数据\n",
    "#df读入的dataframe\n",
    "#mem_his_hours:记忆的小时数\n",
    "#pre_hours :预测多少小时后的数据\n",
    "def Pop_LSTM_Data_Precesing(df,id,mem_his_hours,pre_hours):\n",
    "    df = df[df.videoId== id] #获取视频id\n",
    "    df.fillna(0, inplace=True) #将 NAN 转为0\n",
    "    df.sort_values(by=['Time','viewCount_diff'],ascending=(True,False) ,inplace=True)  #按照同一时间，请求次数排序\n",
    "    df=df[['videoId','Time','viewCount_diff']]\n",
    "    df['Time'] = pd.to_datetime(df['Time'])#将时间转为画图可以识别的datetime类型\n",
    "    \n",
    "    from sklearn.preprocessing import StandardScaler #数据标准化的库\n",
    "    scaler = StandardScaler() #生成实例对象\n",
    "    sca_X = df['viewCount_diff'].values #标准化，去除最后一列\n",
    "    # print(sca_X)\n",
    "\n",
    "    from collections import deque\n",
    "    deq = deque(maxlen=mem_his_hours) #设置队列先进先出\n",
    "\n",
    "    X = []\n",
    "    for i in sca_X:\n",
    "        deq.append(i)\n",
    "        if len(deq)==mem_his_hours:\n",
    "            X.append(list(deq)) #满了5行数据就存储进X\n",
    "    #print(len(X))4271 从第5行开始记录，所以少掉4条\n",
    "    X_lately = X[-pre_hours:]#记录最后10条数据\n",
    "    X = X[:-pre_hours] #删除最后十条\n",
    "#     print(len(X)) \n",
    "\n",
    "    #记录了label值\n",
    "    y = df['viewCount_diff'].values[mem_his_hours-1:-pre_hours]  #构建y的值  从第4条开始到倒数第10条\n",
    "    # print(len(y))\n",
    "    # print(y)\n",
    "    #print(df) #4275*6\n",
    "\n",
    "    import numpy as np\n",
    "    X = np.array(X) #转为numpy数组，更直观\n",
    "    y = np.array(y)\n",
    "    X = np.reshape(X,(X.shape[0], X.shape[1],1))\n",
    "    y = np.reshape(y,(y.shape[0],1))\n",
    "#     print(X.shape)\n",
    "#     print(y.shape)\n",
    "    return X,y,X_lately"
   ]
  },
  {
   "cell_type": "code",
   "execution_count": 299,
   "id": "562270ee",
   "metadata": {},
   "outputs": [
    {
     "name": "stderr",
     "output_type": "stream",
     "text": [
      "E:\\Anaconda3\\envs\\pytorch\\lib\\site-packages\\ipykernel_launcher.py:8: SettingWithCopyWarning: \n",
      "A value is trying to be set on a copy of a slice from a DataFrame\n",
      "\n",
      "See the caveats in the documentation: https://pandas.pydata.org/pandas-docs/stable/user_guide/indexing.html#returning-a-view-versus-a-copy\n",
      "  \n"
     ]
    }
   ],
   "source": [
    "X,y,X_lately = Pop_LSTM_Data_Precesing(df,'VYOjWnS4cMY',24,24)"
   ]
  },
  {
   "cell_type": "code",
   "execution_count": 306,
   "id": "79a0fd2d",
   "metadata": {},
   "outputs": [
    {
     "name": "stderr",
     "output_type": "stream",
     "text": [
      "E:\\Anaconda3\\envs\\pytorch\\lib\\site-packages\\pandas\\core\\frame.py:4327: SettingWithCopyWarning: \n",
      "A value is trying to be set on a copy of a slice from a DataFrame\n",
      "\n",
      "See the caveats in the documentation: https://pandas.pydata.org/pandas-docs/stable/user_guide/indexing.html#returning-a-view-versus-a-copy\n",
      "  downcast=downcast,\n",
      "E:\\Anaconda3\\envs\\pytorch\\lib\\site-packages\\ipykernel_launcher.py:8: SettingWithCopyWarning: \n",
      "A value is trying to be set on a copy of a slice from a DataFrame\n",
      "\n",
      "See the caveats in the documentation: https://pandas.pydata.org/pandas-docs/stable/user_guide/indexing.html#returning-a-view-versus-a-copy\n",
      "  \n"
     ]
    },
    {
     "name": "stdout",
     "output_type": "stream",
     "text": [
      "Epoch 1/50\n",
      "19/19 [==============================] - 4s 57ms/step - loss: 128994492416.0000 - mape: 49361022976.0000 - val_loss: 24252626944.0000 - val_mape: 73.4169\n",
      "INFO:tensorflow:Assets written to: ./models2\\73.42_01_men_8_lstm_1_dense_1_unit_32\\assets\n",
      "Epoch 2/50\n",
      "19/19 [==============================] - 0s 10ms/step - loss: 102368878592.0000 - mape: 192135299072.0000 - val_loss: 20832481280.0000 - val_mape: 66.7333\n",
      "INFO:tensorflow:Assets written to: ./models2\\66.73_02_men_8_lstm_1_dense_1_unit_32\\assets\n",
      "Epoch 3/50\n",
      "19/19 [==============================] - 0s 10ms/step - loss: 69369913344.0000 - mape: 728722833408.0000 - val_loss: 7795304960.0000 - val_mape: 32.3253\n",
      "INFO:tensorflow:Assets written to: ./models2\\32.33_03_men_8_lstm_1_dense_1_unit_32\\assets\n",
      "Epoch 4/50\n",
      "19/19 [==============================] - 0s 10ms/step - loss: 54245748736.0000 - mape: 949253636096.0000 - val_loss: 4784187392.0000 - val_mape: 22.9400\n",
      "INFO:tensorflow:Assets written to: ./models2\\22.94_04_men_8_lstm_1_dense_1_unit_32\\assets\n",
      "Epoch 5/50\n",
      "19/19 [==============================] - 0s 10ms/step - loss: 49063620608.0000 - mape: 1285737676800.0000 - val_loss: 6038926336.0000 - val_mape: 30.5078\n",
      "Epoch 6/50\n",
      "19/19 [==============================] - 0s 10ms/step - loss: 50438410240.0000 - mape: 895962054656.0000 - val_loss: 9150803968.0000 - val_mape: 35.4403\n",
      "Epoch 7/50\n",
      "19/19 [==============================] - 0s 11ms/step - loss: 45145333760.0000 - mape: 1880803377152.0000 - val_loss: 7561206784.0000 - val_mape: 31.0860\n",
      "Epoch 8/50\n",
      "19/19 [==============================] - 0s 10ms/step - loss: 43679682560.0000 - mape: 2220999049216.0000 - val_loss: 8092818432.0000 - val_mape: 34.0058\n",
      "Epoch 9/50\n",
      "19/19 [==============================] - 0s 11ms/step - loss: 44009586688.0000 - mape: 2553448759296.0000 - val_loss: 7452653056.0000 - val_mape: 32.8784\n",
      "Epoch 10/50\n",
      "19/19 [==============================] - 0s 12ms/step - loss: 45679591424.0000 - mape: 3025096146944.0000 - val_loss: 7862248448.0000 - val_mape: 32.4984\n",
      "Epoch 11/50\n",
      "19/19 [==============================] - 0s 10ms/step - loss: 45841309696.0000 - mape: 3343024914432.0000 - val_loss: 7978713088.0000 - val_mape: 32.4187\n",
      "Epoch 12/50\n",
      "19/19 [==============================] - 0s 10ms/step - loss: 47865462784.0000 - mape: 2787330490368.0000 - val_loss: 7110990848.0000 - val_mape: 28.2230\n",
      "Epoch 13/50\n",
      "19/19 [==============================] - 0s 10ms/step - loss: 40414400512.0000 - mape: 2461472391168.0000 - val_loss: 7527866880.0000 - val_mape: 27.7898\n",
      "Epoch 14/50\n",
      "19/19 [==============================] - 0s 10ms/step - loss: 39410307072.0000 - mape: 2899362709504.0000 - val_loss: 7287199232.0000 - val_mape: 29.6403\n",
      "Epoch 15/50\n",
      "19/19 [==============================] - 0s 12ms/step - loss: 39772672000.0000 - mape: 2562155085824.0000 - val_loss: 7003876352.0000 - val_mape: 29.0560\n",
      "Epoch 16/50\n",
      "19/19 [==============================] - 0s 11ms/step - loss: 34636288000.0000 - mape: 2816712900608.0000 - val_loss: 7353558528.0000 - val_mape: 28.3767\n",
      "Epoch 17/50\n",
      "19/19 [==============================] - 0s 10ms/step - loss: 33456803840.0000 - mape: 3135702564864.0000 - val_loss: 6899070976.0000 - val_mape: 26.3735\n",
      "Epoch 18/50\n",
      "19/19 [==============================] - 0s 10ms/step - loss: 36020826112.0000 - mape: 3333149163520.0000 - val_loss: 6747148800.0000 - val_mape: 26.7271\n",
      "Epoch 19/50\n",
      "19/19 [==============================] - 0s 10ms/step - loss: 33192091648.0000 - mape: 3392438534144.0000 - val_loss: 6865750016.0000 - val_mape: 27.1549\n",
      "Epoch 20/50\n",
      "19/19 [==============================] - 0s 10ms/step - loss: 36242104320.0000 - mape: 3289574539264.0000 - val_loss: 6212166144.0000 - val_mape: 26.7432\n",
      "Epoch 21/50\n",
      "19/19 [==============================] - 0s 10ms/step - loss: 35160297472.0000 - mape: 2968502665216.0000 - val_loss: 7098541056.0000 - val_mape: 27.8705\n",
      "Epoch 22/50\n",
      "19/19 [==============================] - 0s 10ms/step - loss: 32620345344.0000 - mape: 3876802002944.0000 - val_loss: 6555619328.0000 - val_mape: 27.3814\n",
      "Epoch 23/50\n",
      "19/19 [==============================] - 0s 10ms/step - loss: 32173400064.0000 - mape: 3319515054080.0000 - val_loss: 5490443264.0000 - val_mape: 26.5365\n",
      "Epoch 24/50\n",
      "19/19 [==============================] - 0s 12ms/step - loss: 34588921856.0000 - mape: 3633498554368.0000 - val_loss: 5678022144.0000 - val_mape: 24.7493\n",
      "Epoch 25/50\n",
      "19/19 [==============================] - 0s 11ms/step - loss: 31299414016.0000 - mape: 3343416295424.0000 - val_loss: 6482148352.0000 - val_mape: 26.0571\n",
      "Epoch 26/50\n",
      "19/19 [==============================] - 0s 10ms/step - loss: 33870757888.0000 - mape: 2861249855488.0000 - val_loss: 6023585792.0000 - val_mape: 24.4406\n",
      "Epoch 27/50\n",
      "19/19 [==============================] - 0s 10ms/step - loss: 33346361344.0000 - mape: 2937558663168.0000 - val_loss: 5247431168.0000 - val_mape: 22.7092\n",
      "INFO:tensorflow:Assets written to: ./models2\\22.71_27_men_8_lstm_1_dense_1_unit_32\\assets\n",
      "Epoch 28/50\n",
      "19/19 [==============================] - 0s 12ms/step - loss: 31507193856.0000 - mape: 2739476103168.0000 - val_loss: 5946069504.0000 - val_mape: 23.9247\n",
      "Epoch 29/50\n",
      "19/19 [==============================] - 0s 10ms/step - loss: 30805911552.0000 - mape: 3341736476672.0000 - val_loss: 5359991808.0000 - val_mape: 22.5631\n",
      "INFO:tensorflow:Assets written to: ./models2\\22.56_29_men_8_lstm_1_dense_1_unit_32\\assets\n",
      "Epoch 30/50\n",
      "19/19 [==============================] - 0s 10ms/step - loss: 31994003456.0000 - mape: 3685832720384.0000 - val_loss: 5491794432.0000 - val_mape: 22.5358\n",
      "INFO:tensorflow:Assets written to: ./models2\\22.54_30_men_8_lstm_1_dense_1_unit_32\\assets\n",
      "Epoch 31/50\n",
      "19/19 [==============================] - 0s 10ms/step - loss: 32294873088.0000 - mape: 3105837023232.0000 - val_loss: 7062170112.0000 - val_mape: 27.7663\n",
      "Epoch 32/50\n",
      "19/19 [==============================] - 0s 10ms/step - loss: 33766131712.0000 - mape: 3387206139904.0000 - val_loss: 4937624064.0000 - val_mape: 25.5308\n",
      "Epoch 33/50\n",
      "19/19 [==============================] - 0s 10ms/step - loss: 31680841728.0000 - mape: 3070771331072.0000 - val_loss: 7467122176.0000 - val_mape: 28.8179\n",
      "Epoch 34/50\n",
      "19/19 [==============================] - 0s 10ms/step - loss: 30602104832.0000 - mape: 3328806223872.0000 - val_loss: 5983055360.0000 - val_mape: 25.7247\n",
      "Epoch 35/50\n",
      "19/19 [==============================] - 0s 10ms/step - loss: 29958705152.0000 - mape: 3170158772224.0000 - val_loss: 6745246720.0000 - val_mape: 27.2608\n",
      "Epoch 36/50\n",
      "19/19 [==============================] - 0s 14ms/step - loss: 31488913408.0000 - mape: 2889828532224.0000 - val_loss: 5582669312.0000 - val_mape: 25.7702\n",
      "Epoch 37/50\n",
      "19/19 [==============================] - 0s 10ms/step - loss: 31228233728.0000 - mape: 3154434850816.0000 - val_loss: 5857041408.0000 - val_mape: 26.1095\n",
      "Epoch 38/50\n",
      "19/19 [==============================] - 0s 12ms/step - loss: 31662407680.0000 - mape: 2609034297344.0000 - val_loss: 6794566656.0000 - val_mape: 26.5072\n",
      "Epoch 39/50\n",
      "19/19 [==============================] - 0s 10ms/step - loss: 32092284928.0000 - mape: 2020413669376.0000 - val_loss: 6168242688.0000 - val_mape: 26.3727\n",
      "Epoch 40/50\n",
      "19/19 [==============================] - 0s 10ms/step - loss: 31774883840.0000 - mape: 2490947076096.0000 - val_loss: 6335178752.0000 - val_mape: 28.6605\n",
      "Epoch 41/50\n",
      "19/19 [==============================] - 0s 10ms/step - loss: 32149997568.0000 - mape: 3178583293952.0000 - val_loss: 7335325184.0000 - val_mape: 29.6245\n",
      "Epoch 42/50\n",
      "19/19 [==============================] - 0s 10ms/step - loss: 32638109696.0000 - mape: 4290854780928.0000 - val_loss: 7647774208.0000 - val_mape: 29.8658\n",
      "Epoch 43/50\n",
      "19/19 [==============================] - 0s 10ms/step - loss: 33133139968.0000 - mape: 3111152254976.0000 - val_loss: 7514136064.0000 - val_mape: 27.6949\n",
      "Epoch 44/50\n",
      "19/19 [==============================] - 0s 10ms/step - loss: 31711129600.0000 - mape: 3447857348608.0000 - val_loss: 5976443392.0000 - val_mape: 26.2634\n",
      "Epoch 45/50\n",
      "19/19 [==============================] - 0s 10ms/step - loss: 31218483200.0000 - mape: 2501368086528.0000 - val_loss: 6729884672.0000 - val_mape: 26.1975\n",
      "Epoch 46/50\n"
     ]
    },
    {
     "name": "stdout",
     "output_type": "stream",
     "text": [
      "19/19 [==============================] - 0s 10ms/step - loss: 32246728704.0000 - mape: 2055107641344.0000 - val_loss: 6581201408.0000 - val_mape: 27.8409\n",
      "Epoch 47/50\n",
      "19/19 [==============================] - 0s 10ms/step - loss: 29647368192.0000 - mape: 3194330808320.0000 - val_loss: 5868231680.0000 - val_mape: 24.0301\n",
      "Epoch 48/50\n",
      "19/19 [==============================] - 0s 10ms/step - loss: 28354424832.0000 - mape: 2139749875712.0000 - val_loss: 5863619072.0000 - val_mape: 24.6065\n",
      "Epoch 49/50\n",
      "19/19 [==============================] - 0s 10ms/step - loss: 28325183488.0000 - mape: 2448016277504.0000 - val_loss: 5682450432.0000 - val_mape: 24.6166\n",
      "Epoch 50/50\n",
      "19/19 [==============================] - 0s 10ms/step - loss: 29134090240.0000 - mape: 2114723905536.0000 - val_loss: 5920941056.0000 - val_mape: 25.2626\n"
     ]
    }
   ],
   "source": [
    "pre_hours=24\n",
    "# mem_days = [5,10,15]\n",
    "# lstm_layers = [1,2,3]\n",
    "# dense_layers = [1,2,3]\n",
    "# units = [16,32] #共3*3*3*2次训练\n",
    "mem_hours = [8]\n",
    "lstm_layers = [1]\n",
    "dense_layers = [1]\n",
    "units = [32] #共3*3*3*2次训练\n",
    "#该回调函数将在每个epoch后保存模型到filepath\n",
    "from tensorflow.keras.callbacks import ModelCheckpoint\n",
    "for the_mem_hours in mem_hours:\n",
    "    for the_lstm_layers in lstm_layers:\n",
    "        for the_dense_layers in dense_layers:\n",
    "            for the_units in units:\n",
    "                filepath = './models2/{val_mape:.2f}_{epoch:02d}_'+f'men_{the_mem_hours}_lstm_{the_lstm_layers}_dense_{the_dense_layers}_unit_{the_units}'\n",
    "                checkpoint = ModelCheckpoint(\n",
    "                    filepath=filepath,#文件路径\n",
    "                    save_weights_only=False, #若设置为True,则只保存模型权重,否则将保存整个模型\n",
    "                    monitor='val_mape', #判断标准\n",
    "                    mode='min',#越小越好\n",
    "                    save_best_only=True)\n",
    "\n",
    "                X,y,X_lately = Pop_LSTM_Data_Precesing(df,'VYOjWnS4cMY',the_mem_hours,pre_hours)\n",
    "                from sklearn.model_selection import train_test_split #划分数据集\n",
    "                #shuffle=False不要打乱数据集\n",
    "                X_train, X_test, y_train, y_test = train_test_split(X,y,shuffle=False,test_size=0.1)\n",
    "#                 print(X_train)\n",
    "#                 print(X_test)\n",
    "#                 print(y_train)\n",
    "#                 print(y_test)\n",
    "                #构建LSTM的神经网络\n",
    "                import tensorflow as tf\n",
    "                from tensorflow.keras.models import Sequential #顺序模型\n",
    "                from tensorflow.keras.layers import LSTM, Dense, Dropout #引入 LSTM层  全连接层 遗忘层\n",
    "                model = Sequential()\n",
    "\n",
    "                #10个神经元，输入，激活函数relu,返回值\n",
    "                #构建第一层\n",
    "                model.add(LSTM(the_units,input_shape=X.shape[1:],activation='relu',return_sequences=True))\n",
    "                model.add(Dropout(0.1))#防止过拟合遗忘0.1\n",
    "\n",
    "                #构建第二层\n",
    "                for i in range(the_lstm_layers):\n",
    "                    model.add(LSTM(the_units,activation='relu',return_sequences=True))\n",
    "                    model.add(Dropout(0.1))#防止过拟合遗忘0.1\n",
    "\n",
    "                #构建第三层\n",
    "                model.add(LSTM(the_units,activation='relu'))\n",
    "                model.add(Dropout(0.1))#防止过拟合遗忘0.1\n",
    "\n",
    "                for i in range(the_dense_layers):\n",
    "                #构建全连接层\n",
    "                    model.add(Dense(the_units,activation='relu'))\n",
    "                    model.add(Dropout(0.1))#防止过拟合遗忘0.1\n",
    "\n",
    "                #构建输出层\n",
    "                model.add(Dense(1))\n",
    "\n",
    "                #编译\n",
    "                model.compile(optimizer='adam',#优化器\n",
    "                             loss='mse',#损失函数   因为是回归的，选择一个损失函数 均方差损失\n",
    "                             metrics=['mape'])#评价\n",
    "\n",
    "                #训练  \n",
    "                #batch_siz一次训练所选取的样本数  \n",
    "                #epochs 迭代次数\\\n",
    "                #validation_data 校验数据集\n",
    "                model.fit(X_train,y_train,batch_size=32,epochs=50,validation_data=(X_test,y_test),callbacks=[checkpoint])\n",
    "\n",
    "                #mape 训练集误差\n",
    "                # val_mape 校验集误差 平均误差率"
   ]
  },
  {
   "cell_type": "code",
   "execution_count": 6,
   "id": "3fbe6092",
   "metadata": {},
   "outputs": [],
   "source": [
    "#将最优的模型保存下来\n",
    "from tensorflow.keras.models import load_model\n",
    "best_model = load_model('./models2/22.54_30_men_8_lstm_1_dense_1_unit_32')"
   ]
  },
  {
   "cell_type": "code",
   "execution_count": 15,
   "id": "f08cd655",
   "metadata": {},
   "outputs": [
    {
     "name": "stdout",
     "output_type": "stream",
     "text": [
      "Model: \"sequential_37\"\n",
      "_________________________________________________________________\n",
      "Layer (type)                 Output Shape              Param #   \n",
      "=================================================================\n",
      "lstm_141 (LSTM)              (None, 8, 32)             4352      \n",
      "_________________________________________________________________\n",
      "dropout_204 (Dropout)        (None, 8, 32)             0         \n",
      "_________________________________________________________________\n",
      "lstm_142 (LSTM)              (None, 8, 32)             8320      \n",
      "_________________________________________________________________\n",
      "dropout_205 (Dropout)        (None, 8, 32)             0         \n",
      "_________________________________________________________________\n",
      "lstm_143 (LSTM)              (None, 32)                8320      \n",
      "_________________________________________________________________\n",
      "dropout_206 (Dropout)        (None, 32)                0         \n",
      "_________________________________________________________________\n",
      "dense_100 (Dense)            (None, 32)                1056      \n",
      "_________________________________________________________________\n",
      "dropout_207 (Dropout)        (None, 32)                0         \n",
      "_________________________________________________________________\n",
      "dense_101 (Dense)            (None, 1)                 33        \n",
      "=================================================================\n",
      "Total params: 22,081\n",
      "Trainable params: 22,081\n",
      "Non-trainable params: 0\n",
      "_________________________________________________________________\n",
      "3/3 [==============================] - 0s 2ms/step - loss: 8501222400.0000 - mape: 48.0092\n",
      "69\n",
      "69\n"
     ]
    },
    {
     "name": "stderr",
     "output_type": "stream",
     "text": [
      "E:\\Anaconda3\\envs\\pytorch\\lib\\site-packages\\pandas\\core\\frame.py:4327: SettingWithCopyWarning: \n",
      "A value is trying to be set on a copy of a slice from a DataFrame\n",
      "\n",
      "See the caveats in the documentation: https://pandas.pydata.org/pandas-docs/stable/user_guide/indexing.html#returning-a-view-versus-a-copy\n",
      "  downcast=downcast,\n",
      "E:\\Anaconda3\\envs\\pytorch\\lib\\site-packages\\ipykernel_launcher.py:8: SettingWithCopyWarning: \n",
      "A value is trying to be set on a copy of a slice from a DataFrame\n",
      "\n",
      "See the caveats in the documentation: https://pandas.pydata.org/pandas-docs/stable/user_guide/indexing.html#returning-a-view-versus-a-copy\n",
      "  \n"
     ]
    }
   ],
   "source": [
    "X,y,X_lately = Pop_LSTM_Data_Precesing(df,'FzG4uDgje3M',8,4)\n",
    "from sklearn.model_selection import train_test_split #划分数据集\n",
    "#shuffle=False不要打乱数据集\n",
    "X_train, X_test, y_train, y_test = train_test_split(X,y,shuffle=False,test_size=0.1)\n",
    "\n",
    "best_model.summary()#输出最优模型的摘要\n",
    "best_model.evaluate(X_test,y_test) #评估模型\n",
    "# model.evaluate(X_test,y_test) #最后训练出来的的model评估模型\n",
    "pre = best_model.predict(X_test) #根据模型,输入X测试集生成预测\n",
    "print(len(pre))\n",
    "print(len(X_test))"
   ]
  },
  {
   "cell_type": "code",
   "execution_count": 48,
   "id": "745468a2",
   "metadata": {
    "scrolled": false
   },
   "outputs": [
    {
     "data": {
      "text/plain": [
       "<AxesSubplot:title={'center':'Id:FzG4uDgje3M'}>"
      ]
     },
     "execution_count": 48,
     "metadata": {},
     "output_type": "execute_result"
    },
    {
     "data": {
      "image/png": "[encoded data removed]",
      "text/plain": [
       "<Figure size 432x288 with 1 Axes>"
      ]
     },
     "metadata": {
      "needs_background": "light"
     },
     "output_type": "display_data"
    }
   ],
   "source": [
    "#画图\n",
    "# print(df_time)\n",
    "df_time = df.Time[-len(y_test):].values\n",
    "i=0\n",
    "# while i<len(df_time):\n",
    "#     df_time[i] = datetime.datetime.strptime(df_time[i],'%Y-%m-%d %H:%M:%S')\n",
    "#     i +=1\n",
    "# pre = pre.flatten()\n",
    "# y_test = y_test.flatten()   #使用reshape直接必须确定维数  reshape为([-1])\n",
    "pser = pd.Series(y_test, index = df_time)\n",
    "pser.plot(use_index = 1, legend = True, label =  \"views\",title='Id:FzG4uDgje3M')\n",
    "pser = pd.Series(pre, index = df_time)\n",
    "pser.plot(use_index = 1, legend = True, label =  \"pre\")\n",
    "# plt.plot(df_time,y_test,color='red',label='views') #X轴是日期,y是真实股价\n",
    "# plt.plot(df_time,pre,color='green',label='predict') #预测的值\n",
    "# plt.show()"
   ]
  },
  {
   "cell_type": "code",
   "execution_count": null,
   "id": "cf344b3a",
   "metadata": {},
   "outputs": [],
   "source": []
  }
 ],
 "metadata": {
  "kernelspec": {
   "display_name": "Python [conda env:pytorch] *",
   "language": "python",
   "name": "conda-env-pytorch-py"
  },
  "language_info": {
   "codemirror_mode": {
    "name": "ipython",
    "version": 3
   },
   "file_extension": ".py",
   "mimetype": "text/x-python",
   "name": "python",
   "nbconvert_exporter": "python",
   "pygments_lexer": "ipython3",
   "version": "3.6.13"
  }
 },
 "nbformat": 4,
 "nbformat_minor": 5
}
