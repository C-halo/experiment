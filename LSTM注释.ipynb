{
 "cells": [
  {
   "cell_type": "code",
   "execution_count": 32,
   "id": "1ce41fd7",
   "metadata": {},
   "outputs": [],
   "source": [
    "import pandas_datareader.data as web\n",
    "import datetime\n",
    "start = datetime.datetime(2000,1,1)\n",
    "end = datetime.datetime(2021,9,1)\n",
    "df = web.DataReader('GOOGL', 'stooq', start, end)"
   ]
  },
  {
   "cell_type": "code",
   "execution_count": 33,
   "id": "09a0fb9a",
   "metadata": {
    "scrolled": true
   },
   "outputs": [
    {
     "name": "stdout",
     "output_type": "stream",
     "text": [
      "                Open      High       Low     Close      Volume\n",
      "Date                                                          \n",
      "2021-09-01  2900.000  2925.075  2897.670  2904.310   1096805.0\n",
      "2021-08-31  2902.940  2903.425  2885.620  2893.950   1122438.0\n",
      "2021-08-30  2888.000  2919.410  2883.260  2891.810   1221710.0\n",
      "2021-08-27  2833.050  2890.250  2829.940  2880.080   1439010.0\n",
      "2021-08-26  2835.000  2848.350  2827.140  2828.810   1030466.0\n",
      "...              ...       ...       ...       ...         ...\n",
      "2004-08-25    52.480    54.000    51.940    53.000   9197800.0\n",
      "2004-08-24    55.620    55.800    51.785    52.435  15262600.0\n",
      "2004-08-23    55.375    56.740    54.525    54.700  18274400.0\n",
      "2004-08-20    50.505    54.540    50.250    54.155  22857200.0\n",
      "2004-08-19    50.000    52.030    47.980    50.170  44703800.0\n",
      "\n",
      "[4290 rows x 5 columns]\n"
     ]
    },
    {
     "data": {
      "text/plain": [
       "Open      float64\n",
       "High      float64\n",
       "Low       float64\n",
       "Close     float64\n",
       "Volume    float64\n",
       "dtype: object"
      ]
     },
     "execution_count": 33,
     "metadata": {},
     "output_type": "execute_result"
    }
   ],
   "source": [
    "print(df)\n",
    "df.dtypes"
   ]
  },
  {
   "cell_type": "code",
   "execution_count": 34,
   "id": "b0942558",
   "metadata": {},
   "outputs": [],
   "source": [
    "# pre_days = 10  #预测10天后的股票价格\n",
    "\n",
    "#封装函数\n",
    "def Stock_Price_LSTM_Data_Precesing(df,mem_his_days,pre_days):\n",
    "    df.dropna(inplace=True)#删掉空值\n",
    "    df.sort_index(inplace=True)\n",
    "\n",
    "    df['label']=df['Close'].shift(-pre_days) #不要最后十天的label\n",
    "\n",
    "    from sklearn.preprocessing import StandardScaler #数据标准化的库\n",
    "    scaler = StandardScaler() #生成实例对象\n",
    "    sca_X = scaler.fit_transform(df.iloc[:,:-1]) #标准化所有的行，去除最后一列\n",
    "    print(sca_X)\n",
    "\n",
    "    # mem_his_days = 5 #记忆5天的数据\n",
    "    from collections import deque\n",
    "    deq = deque(maxlen=mem_his_days) #设置队列先进先出\n",
    "\n",
    "    X = []\n",
    "    for i in sca_X:\n",
    "        deq.append(list(i))\n",
    "        if len(deq)==mem_his_days:\n",
    "            X.append(list(deq)) #满了5行数据就存储进X\n",
    "    #print(len(X))4271 从第5行开始记录，所以少掉4条\n",
    "    X_lately = X[-pre_days:]#记录最后10条数据\n",
    "    X = X[:-pre_days] #删除最后十条\n",
    "#     print(len(X)) #4261\n",
    "\n",
    "    #记录了label值\n",
    "    y = df['label'].values[mem_his_days-1:-pre_days]  #构建y的值  从第4条开始到倒数第10条\n",
    "    # print(len(y))\n",
    "    # print(y)\n",
    "    #print(df) #4275*6\n",
    "\n",
    "    import numpy as np\n",
    "    X = np.array(X) #转为numpy数组，更直观\n",
    "    y = np.array(y)\n",
    "    print(X.shape)\n",
    "    print(X.shape[1:])\n",
    "    print(y.shape)\n",
    "    return X,y,X_lately"
   ]
  },
  {
   "cell_type": "code",
   "execution_count": 35,
   "id": "766bb62d",
   "metadata": {
    "scrolled": true
   },
   "outputs": [
    {
     "name": "stdout",
     "output_type": "stream",
     "text": [
      "[[-1.08801034 -1.08523099 -1.08961219 -1.0866679   4.89712792]\n",
      " [-1.08705245 -1.08051426 -1.08526922 -1.07911793  2.09105043]\n",
      " [-1.0778149  -1.07638007 -1.07709028 -1.07808538  1.50241458]\n",
      " ...\n",
      " [ 4.29518661  4.30308185  4.33485023  4.29709095 -0.68791113]\n",
      " [ 4.32352522  4.27304322  4.33936538  4.30114538 -0.70066208]\n",
      " [ 4.31794854  4.31372739  4.36241946  4.3207734  -0.7039545 ]]\n",
      "(4275, 5, 5)\n",
      "(5, 5)\n",
      "(4275,)\n"
     ]
    }
   ],
   "source": [
    "X,y,X_lately = Stock_Price_LSTM_Data_Precesing(df,5,10)"
   ]
  },
  {
   "cell_type": "code",
   "execution_count": 37,
   "id": "405ffbb6",
   "metadata": {
    "scrolled": false
   },
   "outputs": [
    {
     "name": "stdout",
     "output_type": "stream",
     "text": [
      "4275\n",
      "4275\n",
      "10\n"
     ]
    }
   ],
   "source": [
    "print(len(X))\n",
    "print(len(y))\n",
    "print(len(X_lately))"
   ]
  },
  {
   "cell_type": "code",
   "execution_count": 38,
   "id": "5a59c3bc",
   "metadata": {
    "scrolled": false
   },
   "outputs": [
    {
     "name": "stdout",
     "output_type": "stream",
     "text": [
      "[[-1.09952482 -1.09673602 -1.10145759 -1.09836588  4.8925551 ]\n",
      " [-1.09854806 -1.09192612 -1.09702755 -1.09066533  2.08816898]\n",
      " [-1.08912856 -1.08771028 -1.08868464 -1.08961218  1.49988794]\n",
      " ...\n",
      " [ 4.12374685  4.10641906  4.08577437  4.15003004 -0.70218429]\n",
      " [ 4.13245476  4.10270145  4.11634553  4.08633863 -0.70656906]\n",
      " [ 4.08410005  4.05819556  4.08666233  4.0394783  -0.72233421]]\n",
      "(4255, 15, 5)\n",
      "(15, 5)\n",
      "(4255,)\n"
     ]
    }
   ],
   "source": [
    "pre_days=10\n",
    "# mem_days = [5,10,15]\n",
    "# lstm_layers = [1,2,3]\n",
    "# dense_layers = [1,2,3]\n",
    "# units = [16,32] #共3*3*3*2次训练\n",
    "mem_days = [15]\n",
    "lstm_layers = [2]\n",
    "dense_layers = [1]\n",
    "units = [32] #共3*3*3*2次训练\n",
    "#该回调函数将在每个epoch后保存模型到filepath\n",
    "from tensorflow.keras.callbacks import ModelCheckpoint\n",
    "for the_mem_days in mem_days:\n",
    "    for the_lstm_layers in lstm_layers:\n",
    "        for the_dense_layers in dense_layers:\n",
    "            for the_units in units:\n",
    "                filepath = './models/{val_mape:.2f}_{epoch:02d}_'+f'men_{the_mem_days}_lstm_{the_lstm_layers}_dense_{the_dense_layers}_unit_{the_units}'\n",
    "                checkpoint = ModelCheckpoint(\n",
    "                    filepath=filepath,#文件路径\n",
    "                    save_weights_only=False, #若设置为True,则只保存模型权重,否则将保存整个模型\n",
    "                    monitor='val_mape', #判断标准\n",
    "                    mode='min',#越小越好\n",
    "                    save_best_only=True)\n",
    "\n",
    "                X,y,X_lately = Stock_Price_LSTM_Data_Precesing(df,the_mem_days,pre_days)\n",
    "                from sklearn.model_selection import train_test_split #划分数据集\n",
    "                #shuffle=False不要打乱数据集\n",
    "                X_train, X_test, y_train, y_test = train_test_split(X,y,shuffle=False,test_size=0.1)\n",
    "                \n",
    "                #构建LSTM的神经网络\n",
    "                import tensorflow as tf\n",
    "                from tensorflow.keras.models import Sequential #顺序模型\n",
    "                from tensorflow.keras.layers import LSTM, Dense, Dropout #引入 LSTM层  全连接层 遗忘层\n",
    "                model = Sequential()\n",
    "\n",
    "                #10个神经元，输入，激活函数relu,返回值\n",
    "                #构建第一层\n",
    "                model.add(LSTM(the_units,input_shape=X.shape[1:],activation='relu',return_sequences=True))\n",
    "                model.add(Dropout(0.1))#防止过拟合遗忘0.1\n",
    "\n",
    "                #构建第二层\n",
    "                for i in range(the_lstm_layers):\n",
    "                    model.add(LSTM(the_units,activation='relu',return_sequences=True))\n",
    "                    model.add(Dropout(0.1))#防止过拟合遗忘0.1\n",
    "\n",
    "                #构建第三层\n",
    "                model.add(LSTM(the_units,activation='relu'))\n",
    "                model.add(Dropout(0.1))#防止过拟合遗忘0.1\n",
    "\n",
    "                for i in range(the_dense_layers):\n",
    "                #构建全连接层\n",
    "                    model.add(Dense(the_units,activation='relu'))\n",
    "                    model.add(Dropout(0.1))#防止过拟合遗忘0.1\n",
    "\n",
    "                #构建输出层\n",
    "                model.add(Dense(1))\n",
    "\n",
    "                #编译\n",
    "                model.compile(optimizer='adam',#优化器\n",
    "                             loss='mse',#损失函数   因为是回归的，选择一个损失函数 均方差损失\n",
    "                             metrics=['mape'])#评价\n",
    "\n",
    "                #训练  \n",
    "                #batch_siz一次训练所选取的样本数  \n",
    "                #epochs 迭代次数\\\n",
    "                #validation_data 校验数据集\n",
    "                model.fit(X_train,y_train,batch_size=32,epochs=50,validation_data=(X_test,y_test),callbacks=[checkpoint])\n",
    "\n",
    "                #mape 训练集误差\n",
    "                # val_mape 校验集误差 平均误差率"
   ]
  },
  {
   "cell_type": "code",
   "execution_count": 39,
   "id": "8ce45b1d",
   "metadata": {},
   "outputs": [],
   "source": [
    "#将最优的模型保存下来\n",
    "from tensorflow.keras.models import load_model\n",
    "best_model = load_model('./models/5.47_42_men_15_lstm_2_dense_1_unit_32')"
   ]
  },
  {
   "cell_type": "code",
   "execution_count": 40,
   "id": "89fc29d4",
   "metadata": {
    "scrolled": true
   },
   "outputs": [
    {
     "name": "stdout",
     "output_type": "stream",
     "text": [
      "426\n"
     ]
    }
   ],
   "source": [
    "# best_model.summary()#输出最优模型的摘要\n",
    "# best_model.evaluate(X_test,y_test) #评估模型\n",
    "# model.evaluate(X_test,y_test) #最后训练出来的的model评估模型\n",
    "pre = best_model.predict(X_test) #根据模型,输入X测试集生成预测\n",
    "print(len(pre))"
   ]
  },
  {
   "cell_type": "code",
   "execution_count": 42,
   "id": "c0d94999",
   "metadata": {
    "scrolled": true
   },
   "outputs": [
    {
     "name": "stdout",
     "output_type": "stream",
     "text": [
      "<class 'pandas.core.indexes.datetimes.DatetimeIndex'>\n"
     ]
    },
    {
     "data": {
      "image/png": "[encoded data removed]",
      "text/plain": [
       "<Figure size 432x288 with 1 Axes>"
      ]
     },
     "metadata": {
      "needs_background": "light"
     },
     "output_type": "display_data"
    }
   ],
   "source": [
    "#画图\n",
    "import matplotlib.pyplot as plt\n",
    "# print(df_time)\n",
    "\n",
    "df_time = df.index[-len(y_test):]\n",
    "print(type(df_time))\n",
    "plt.plot(df_time,y_test,color='red',label='price') #X轴是日期,y是真实股价\n",
    "plt.plot(df_time,pre,color='green',label='predict') #预测的值\n",
    "plt.show()\n"
   ]
  },
  {
   "cell_type": "code",
   "execution_count": 24,
   "id": "a711339b",
   "metadata": {},
   "outputs": [
    {
     "ename": "NameError",
     "evalue": "name 'y_test' is not defined",
     "output_type": "error",
     "traceback": [
      "\u001b[1;31m---------------------------------------------------------------------------\u001b[0m",
      "\u001b[1;31mNameError\u001b[0m                                 Traceback (most recent call last)",
      "\u001b[1;32m<ipython-input-24-66289f471bf9>\u001b[0m in \u001b[0;36m<module>\u001b[1;34m\u001b[0m\n\u001b[1;32m----> 1\u001b[1;33m \u001b[0mprint\u001b[0m\u001b[1;33m(\u001b[0m\u001b[0mlen\u001b[0m\u001b[1;33m(\u001b[0m\u001b[0my_test\u001b[0m\u001b[1;33m)\u001b[0m\u001b[1;33m)\u001b[0m\u001b[1;31m#测试集y的长度，真实数据\u001b[0m\u001b[1;33m\u001b[0m\u001b[1;33m\u001b[0m\u001b[0m\n\u001b[0m",
      "\u001b[1;31mNameError\u001b[0m: name 'y_test' is not defined"
     ]
    }
   ],
   "source": [
    "print(len(y_test))#测试集y的长度，真实数据"
   ]
  },
  {
   "cell_type": "code",
   "execution_count": null,
   "id": "4fdaef1e",
   "metadata": {},
   "outputs": [],
   "source": []
  }
 ],
 "metadata": {
  "kernelspec": {
   "display_name": "Python [conda env:pytorch] *",
   "language": "python",
   "name": "conda-env-pytorch-py"
  },
  "language_info": {
   "codemirror_mode": {
    "name": "ipython",
    "version": 3
   },
   "file_extension": ".py",
   "mimetype": "text/x-python",
   "name": "python",
   "nbconvert_exporter": "python",
   "pygments_lexer": "ipython3",
   "version": "3.6.13"
  }
 },
 "nbformat": 4,
 "nbformat_minor": 5
}
